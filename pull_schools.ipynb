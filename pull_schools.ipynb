{
 "cells": [
  {
   "cell_type": "code",
   "execution_count": 3,
   "metadata": {},
   "outputs": [],
   "source": [
    "import requests\n",
    "import json\n",
    "import pandas as pd\n",
    "pd.set_option('display.max_columns', None)\n",
    "pd.options.mode.chained_assignment = None\n",
    "import numpy as np\n",
    "import datetime\n",
    "from datetime import date\n",
    "import time\n",
    "from urllib.request import Request, urlopen\n",
    "import urllib\n",
    "from dateutil.relativedelta import relativedelta\n",
    "\n",
    "import gspread\n",
    "from gspread_dataframe import set_with_dataframe\n",
    "from oauth2client.client import GoogleCredentials\n",
    "from google.oauth2.service_account import Credentials\n",
    "\n",
    "credentials = json.load(open('/Users/sophiechance/Documents/CourseKey/google_credentials.json'))\n",
    "gc = gspread.service_account_from_dict(credentials)\n",
    "\n",
    "import hubspot\n",
    "import urllib.request\n",
    "from bs4 import BeautifulSoup\n",
    "import re"
   ]
  },
  {
   "cell_type": "code",
   "execution_count": 13,
   "metadata": {},
   "outputs": [],
   "source": [
    "higher_ed_dive_raw = requests.request('GET', url ='https://datawrapper.dwcdn.net/XKHWJ/4/')"
   ]
  },
  {
   "cell_type": "code",
   "execution_count": 18,
   "metadata": {},
   "outputs": [],
   "source": [
    "page_1 = '''<table class=\"medium datawrapper-XKHWJ-1rmbomy svelte-11e8mql resortable resorted\" cellspacing=\"0\"><caption class=\"sr-only\">Table with 1 columns and 151 rows. Currently displaying rows 1 to 50. Sorted ascending by column \"Instiution Name\"</caption> <thead><tr class=\"datawrapper-XKHWJ-mrf5m svelte-11e8mql\"> <th style=\"border-bottom:2px solid #333333;font-size: 110.00000000000001%;\" class=\"first last type-text align-left resortable sort-asc cell svelte-1v3qkhd\" colspan=\"1\" data-column=\"Instiution Name\" data-row=\"-1\" scope=\"col\" aria-sort=\"ascending\"><button class=\"sort svelte-11e8mql\"> <span class=\"content dw-bold\"> Instiution Name </span> <span aria-hidden=\"true\" class=\"sort-arrow right svelte-16gm7kk\">▲</span></button></th> </tr></thead> <tbody><tr class=\"datawrapper-XKHWJ-1tg0mo9 svelte-11e8mql\"> <th colspan=\"1\" class=\"first last type-text align-left align-vertical-middle td cell svelte-1eqj0kf\" scope=\"row\" style=\"\">Al Collins Graphic Design School</th></tr><tr class=\"datawrapper-XKHWJ-1tg0mo9 svelte-11e8mql\"> <th colspan=\"1\" class=\"first last type-text align-left align-vertical-middle td cell svelte-1eqj0kf\" scope=\"row\" style=\"\">All‐State Career School</th></tr><tr class=\"datawrapper-XKHWJ-1tg0mo9 svelte-11e8mql\"> <th colspan=\"1\" class=\"first last type-text align-left align-vertical-middle td cell svelte-1eqj0kf\" scope=\"row\" style=\"\">Allentown Business School</th></tr><tr class=\"datawrapper-XKHWJ-1tg0mo9 svelte-11e8mql\"> <th colspan=\"1\" class=\"first last type-text align-left align-vertical-middle td cell svelte-1eqj0kf\" scope=\"row\" style=\"\">American Career College</th></tr><tr class=\"datawrapper-XKHWJ-1tg0mo9 svelte-11e8mql\"> <th colspan=\"1\" class=\"first last type-text align-left align-vertical-middle td cell svelte-1eqj0kf\" scope=\"row\" style=\"\">American Career Institute</th></tr><tr class=\"datawrapper-XKHWJ-1tg0mo9 svelte-11e8mql\"> <th colspan=\"1\" class=\"first last type-text align-left align-vertical-middle td cell svelte-1eqj0kf\" scope=\"row\" style=\"\">American College for Medical Careers</th></tr><tr class=\"datawrapper-XKHWJ-1tg0mo9 svelte-11e8mql\"> <th colspan=\"1\" class=\"first last type-text align-left align-vertical-middle td cell svelte-1eqj0kf\" scope=\"row\" style=\"\">American Commercial College</th></tr><tr class=\"datawrapper-XKHWJ-1tg0mo9 svelte-11e8mql\"> <th colspan=\"1\" class=\"first last type-text align-left align-vertical-middle td cell svelte-1eqj0kf\" scope=\"row\" style=\"\">American InterContinental University</th></tr><tr class=\"datawrapper-XKHWJ-1tg0mo9 svelte-11e8mql\"> <th colspan=\"1\" class=\"first last type-text align-left align-vertical-middle td cell svelte-1eqj0kf\" scope=\"row\" style=\"\">American National University</th></tr><tr class=\"datawrapper-XKHWJ-1tg0mo9 svelte-11e8mql\"> <th colspan=\"1\" class=\"first last type-text align-left align-vertical-middle td cell svelte-1eqj0kf\" scope=\"row\" style=\"\">American University of the Caribbean</th></tr><tr class=\"datawrapper-XKHWJ-1tg0mo9 svelte-11e8mql\"> <th colspan=\"1\" class=\"first last type-text align-left align-vertical-middle td cell svelte-1eqj0kf\" scope=\"row\" style=\"\">Anamarc College</th></tr><tr class=\"datawrapper-XKHWJ-1tg0mo9 svelte-11e8mql\"> <th colspan=\"1\" class=\"first last type-text align-left align-vertical-middle td cell svelte-1eqj0kf\" scope=\"row\" style=\"\">Anthem College</th></tr><tr class=\"datawrapper-XKHWJ-1tg0mo9 svelte-11e8mql\"> <th colspan=\"1\" class=\"first last type-text align-left align-vertical-middle td cell svelte-1eqj0kf\" scope=\"row\" style=\"\">Anthem Institute</th></tr><tr class=\"datawrapper-XKHWJ-1tg0mo9 svelte-11e8mql\"> <th colspan=\"1\" class=\"first last type-text align-left align-vertical-middle td cell svelte-1eqj0kf\" scope=\"row\" style=\"\">Argosy University</th></tr><tr class=\"datawrapper-XKHWJ-1tg0mo9 svelte-11e8mql\"> <th colspan=\"1\" class=\"first last type-text align-left align-vertical-middle td cell svelte-1eqj0kf\" scope=\"row\" style=\"\">Arizona Summit Law School</th></tr><tr class=\"datawrapper-XKHWJ-1tg0mo9 svelte-11e8mql\"> <th colspan=\"1\" class=\"first last type-text align-left align-vertical-middle td cell svelte-1eqj0kf\" scope=\"row\" style=\"\">Ashford University</th></tr><tr class=\"datawrapper-XKHWJ-1tg0mo9 svelte-11e8mql\"> <th colspan=\"1\" class=\"first last type-text align-left align-vertical-middle td cell svelte-1eqj0kf\" scope=\"row\" style=\"\">ATI Career Training Center</th></tr><tr class=\"datawrapper-XKHWJ-1tg0mo9 svelte-11e8mql\"> <th colspan=\"1\" class=\"first last type-text align-left align-vertical-middle td cell svelte-1eqj0kf\" scope=\"row\" style=\"\">ATI College of Health</th></tr><tr class=\"datawrapper-XKHWJ-1tg0mo9 svelte-11e8mql\"> <th colspan=\"1\" class=\"first last type-text align-left align-vertical-middle td cell svelte-1eqj0kf\" scope=\"row\" style=\"\">ATI Technical Training Center</th></tr><tr class=\"datawrapper-XKHWJ-1tg0mo9 svelte-11e8mql\"> <th colspan=\"1\" class=\"first last type-text align-left align-vertical-middle td cell svelte-1eqj0kf\" scope=\"row\" style=\"\">Bauder College</th></tr><tr class=\"datawrapper-XKHWJ-1tg0mo9 svelte-11e8mql\"> <th colspan=\"1\" class=\"first last type-text align-left align-vertical-middle td cell svelte-1eqj0kf\" scope=\"row\" style=\"\">Beckfield College</th></tr><tr class=\"datawrapper-XKHWJ-1tg0mo9 svelte-11e8mql\"> <th colspan=\"1\" class=\"first last type-text align-left align-vertical-middle td cell svelte-1eqj0kf\" scope=\"row\" style=\"\">Berkeley College</th></tr><tr class=\"datawrapper-XKHWJ-1tg0mo9 svelte-11e8mql\"> <th colspan=\"1\" class=\"first last type-text align-left align-vertical-middle td cell svelte-1eqj0kf\" scope=\"row\" style=\"\">Blue Cliff College</th></tr><tr class=\"datawrapper-XKHWJ-1tg0mo9 svelte-11e8mql\"> <th colspan=\"1\" class=\"first last type-text align-left align-vertical-middle td cell svelte-1eqj0kf\" scope=\"row\" style=\"\">Branford Hall Career Institute</th></tr><tr class=\"datawrapper-XKHWJ-1tg0mo9 svelte-11e8mql\"> <th colspan=\"1\" class=\"first last type-text align-left align-vertical-middle td cell svelte-1eqj0kf\" scope=\"row\" style=\"\">Briarcliffe College</th></tr><tr class=\"datawrapper-XKHWJ-1tg0mo9 svelte-11e8mql\"> <th colspan=\"1\" class=\"first last type-text align-left align-vertical-middle td cell svelte-1eqj0kf\" scope=\"row\" style=\"\">Brightwood Career Institute</th></tr><tr class=\"datawrapper-XKHWJ-1tg0mo9 svelte-11e8mql\"> <th colspan=\"1\" class=\"first last type-text align-left align-vertical-middle td cell svelte-1eqj0kf\" scope=\"row\" style=\"\">Brightwood College</th></tr><tr class=\"datawrapper-XKHWJ-1tg0mo9 svelte-11e8mql\"> <th colspan=\"1\" class=\"first last type-text align-left align-vertical-middle td cell svelte-1eqj0kf\" scope=\"row\" style=\"\">Brooks College</th></tr><tr class=\"datawrapper-XKHWJ-1tg0mo9 svelte-11e8mql\"> <th colspan=\"1\" class=\"first last type-text align-left align-vertical-middle td cell svelte-1eqj0kf\" scope=\"row\" style=\"\">Brooks Institute</th></tr><tr class=\"datawrapper-XKHWJ-1tg0mo9 svelte-11e8mql\"> <th colspan=\"1\" class=\"first last type-text align-left align-vertical-middle td cell svelte-1eqj0kf\" scope=\"row\" style=\"\">Brown College</th></tr><tr class=\"datawrapper-XKHWJ-1tg0mo9 svelte-11e8mql\"> <th colspan=\"1\" class=\"first last type-text align-left align-vertical-middle td cell svelte-1eqj0kf\" scope=\"row\" style=\"\">Brown Institute</th></tr><tr class=\"datawrapper-XKHWJ-1tg0mo9 svelte-11e8mql\"> <th colspan=\"1\" class=\"first last type-text align-left align-vertical-middle td cell svelte-1eqj0kf\" scope=\"row\" style=\"\">Brown Mackie College</th></tr><tr class=\"datawrapper-XKHWJ-1tg0mo9 svelte-11e8mql\"> <th colspan=\"1\" class=\"first last type-text align-left align-vertical-middle td cell svelte-1eqj0kf\" scope=\"row\" style=\"\">California College San Diego</th></tr><tr class=\"datawrapper-XKHWJ-1tg0mo9 svelte-11e8mql\"> <th colspan=\"1\" class=\"first last type-text align-left align-vertical-middle td cell svelte-1eqj0kf\" scope=\"row\" style=\"\">California Culinary Academy</th></tr><tr class=\"datawrapper-XKHWJ-1tg0mo9 svelte-11e8mql\"> <th colspan=\"1\" class=\"first last type-text align-left align-vertical-middle td cell svelte-1eqj0kf\" scope=\"row\" style=\"\">California School of Culinary Arts</th></tr><tr class=\"datawrapper-XKHWJ-1tg0mo9 svelte-11e8mql\"> <th colspan=\"1\" class=\"first last type-text align-left align-vertical-middle td cell svelte-1eqj0kf\" scope=\"row\" style=\"\">Capella University</th></tr><tr class=\"datawrapper-XKHWJ-1tg0mo9 svelte-11e8mql\"> <th colspan=\"1\" class=\"first last type-text align-left align-vertical-middle td cell svelte-1eqj0kf\" scope=\"row\" style=\"\">Career Point College</th></tr><tr class=\"datawrapper-XKHWJ-1tg0mo9 svelte-11e8mql\"> <th colspan=\"1\" class=\"first last type-text align-left align-vertical-middle td cell svelte-1eqj0kf\" scope=\"row\" style=\"\">Carrington College</th></tr><tr class=\"datawrapper-XKHWJ-1tg0mo9 svelte-11e8mql\"> <th colspan=\"1\" class=\"first last type-text align-left align-vertical-middle td cell svelte-1eqj0kf\" scope=\"row\" style=\"\">Center for Employment Training</th></tr><tr class=\"datawrapper-XKHWJ-1tg0mo9 svelte-11e8mql\"> <th colspan=\"1\" class=\"first last type-text align-left align-vertical-middle td cell svelte-1eqj0kf\" scope=\"row\" style=\"\">Chamberlain University</th></tr><tr class=\"datawrapper-XKHWJ-1tg0mo9 svelte-11e8mql\"> <th colspan=\"1\" class=\"first last type-text align-left align-vertical-middle td cell svelte-1eqj0kf\" scope=\"row\" style=\"\">Charlotte School of Law</th></tr><tr class=\"datawrapper-XKHWJ-1tg0mo9 svelte-11e8mql\"> <th colspan=\"1\" class=\"first last type-text align-left align-vertical-middle td cell svelte-1eqj0kf\" scope=\"row\" style=\"\">Chicago School of Professional Psychology</th></tr><tr class=\"datawrapper-XKHWJ-1tg0mo9 svelte-11e8mql\"> <th colspan=\"1\" class=\"first last type-text align-left align-vertical-middle td cell svelte-1eqj0kf\" scope=\"row\" style=\"\">CollegeAmerica</th></tr><tr class=\"datawrapper-XKHWJ-1tg0mo9 svelte-11e8mql\"> <th colspan=\"1\" class=\"first last type-text align-left align-vertical-middle td cell svelte-1eqj0kf\" scope=\"row\" style=\"\">Collins College</th></tr><tr class=\"datawrapper-XKHWJ-1tg0mo9 svelte-11e8mql\"> <th colspan=\"1\" class=\"first last type-text align-left align-vertical-middle td cell svelte-1eqj0kf\" scope=\"row\" style=\"\">Colorado Technical University</th></tr><tr class=\"datawrapper-XKHWJ-1tg0mo9 svelte-11e8mql\"> <th colspan=\"1\" class=\"first last type-text align-left align-vertical-middle td cell svelte-1eqj0kf\" scope=\"row\" style=\"\">Computer Systems Institute</th></tr><tr class=\"datawrapper-XKHWJ-1tg0mo9 svelte-11e8mql\"> <th colspan=\"1\" class=\"first last type-text align-left align-vertical-middle td cell svelte-1eqj0kf\" scope=\"row\" style=\"\">Concorde Career College</th></tr><tr class=\"datawrapper-XKHWJ-1tg0mo9 svelte-11e8mql\"> <th colspan=\"1\" class=\"first last type-text align-left align-vertical-middle td cell svelte-1eqj0kf\" scope=\"row\" style=\"\">Concorde Career Institute</th></tr><tr class=\"datawrapper-XKHWJ-1tg0mo9 svelte-11e8mql\"> <th colspan=\"1\" class=\"first last type-text align-left align-vertical-middle td cell svelte-1eqj0kf\" scope=\"row\" style=\"\">Cooking and Hospitality Institute of Chicago</th></tr><tr class=\"datawrapper-XKHWJ-1tg0mo9 svelte-11e8mql\"> <th colspan=\"1\" class=\"first last type-text align-left align-vertical-middle td cell svelte-1eqj0kf\" scope=\"row\" style=\"\">Court Reporting Institute</th></tr> </tbody></table>'''"
   ]
  },
  {
   "cell_type": "code",
   "execution_count": 25,
   "metadata": {},
   "outputs": [],
   "source": [
    "page_2 = '''<table class=\"medium datawrapper-XKHWJ-1rmbomy svelte-11e8mql resortable resorted\" cellspacing=\"0\"><caption class=\"sr-only\">Table with 1 columns and 151 rows. Currently displaying rows 51 to 100. Sorted ascending by column \"Instiution Name\"</caption> <thead><tr class=\"datawrapper-XKHWJ-mrf5m svelte-11e8mql\"> <th style=\"border-bottom:2px solid #333333;font-size: 110.00000000000001%;\" class=\"first last type-text align-left resortable sort-asc cell svelte-1v3qkhd\" colspan=\"1\" data-column=\"Instiution Name\" data-row=\"-1\" scope=\"col\" aria-sort=\"ascending\"><button class=\"sort svelte-11e8mql\"> <span class=\"content dw-bold\"> Instiution Name </span> <span aria-hidden=\"true\" class=\"sort-arrow right svelte-16gm7kk\">▲</span></button></th> </tr></thead> <tbody><tr class=\"datawrapper-XKHWJ-1tg0mo9 svelte-11e8mql\"> <th colspan=\"1\" class=\"first last type-text align-left align-vertical-middle td cell svelte-1eqj0kf\" scope=\"row\" style=\"\">Court Reporting Institute of St Louis</th></tr><tr class=\"datawrapper-XKHWJ-1tg0mo9 svelte-11e8mql\"> <th colspan=\"1\" class=\"first last type-text align-left align-vertical-middle td cell svelte-1eqj0kf\" scope=\"row\" style=\"\">Daymar College</th></tr><tr class=\"datawrapper-XKHWJ-1tg0mo9 svelte-11e8mql\"> <th colspan=\"1\" class=\"first last type-text align-left align-vertical-middle td cell svelte-1eqj0kf\" scope=\"row\" style=\"\">DeVry College of Technology</th></tr><tr class=\"datawrapper-XKHWJ-1tg0mo9 svelte-11e8mql\"> <th colspan=\"1\" class=\"first last type-text align-left align-vertical-middle td cell svelte-1eqj0kf\" scope=\"row\" style=\"\">Devry Institute of Technology</th></tr><tr class=\"datawrapper-XKHWJ-1tg0mo9 svelte-11e8mql\"> <th colspan=\"1\" class=\"first last type-text align-left align-vertical-middle td cell svelte-1eqj0kf\" scope=\"row\" style=\"\">DeVry University</th></tr><tr class=\"datawrapper-XKHWJ-1tg0mo9 svelte-11e8mql\"> <th colspan=\"1\" class=\"first last type-text align-left align-vertical-middle td cell svelte-1eqj0kf\" scope=\"row\" style=\"\">Dorsey College</th></tr><tr class=\"datawrapper-XKHWJ-1tg0mo9 svelte-11e8mql\"> <th colspan=\"1\" class=\"first last type-text align-left align-vertical-middle td cell svelte-1eqj0kf\" scope=\"row\" style=\"\">Empire Beauty School</th></tr><tr class=\"datawrapper-XKHWJ-1tg0mo9 svelte-11e8mql\"> <th colspan=\"1\" class=\"first last type-text align-left align-vertical-middle td cell svelte-1eqj0kf\" scope=\"row\" style=\"\">Everglades University</th></tr><tr class=\"datawrapper-XKHWJ-1tg0mo9 svelte-11e8mql\"> <th colspan=\"1\" class=\"first last type-text align-left align-vertical-middle td cell svelte-1eqj0kf\" scope=\"row\" style=\"\">FastTrain</th></tr><tr class=\"datawrapper-XKHWJ-1tg0mo9 svelte-11e8mql\"> <th colspan=\"1\" class=\"first last type-text align-left align-vertical-middle td cell svelte-1eqj0kf\" scope=\"row\" style=\"\">Florida Career College</th></tr><tr class=\"datawrapper-XKHWJ-1tg0mo9 svelte-11e8mql\"> <th colspan=\"1\" class=\"first last type-text align-left align-vertical-middle td cell svelte-1eqj0kf\" scope=\"row\" style=\"\">Florida Coastal School of Law</th></tr><tr class=\"datawrapper-XKHWJ-1tg0mo9 svelte-11e8mql\"> <th colspan=\"1\" class=\"first last type-text align-left align-vertical-middle td cell svelte-1eqj0kf\" scope=\"row\" style=\"\">Florida Technical College</th></tr><tr class=\"datawrapper-XKHWJ-1tg0mo9 svelte-11e8mql\"> <th colspan=\"1\" class=\"first last type-text align-left align-vertical-middle td cell svelte-1eqj0kf\" scope=\"row\" style=\"\">Fortis College</th></tr><tr class=\"datawrapper-XKHWJ-1tg0mo9 svelte-11e8mql\"> <th colspan=\"1\" class=\"first last type-text align-left align-vertical-middle td cell svelte-1eqj0kf\" scope=\"row\" style=\"\">Fortis Institute</th></tr><tr class=\"datawrapper-XKHWJ-1tg0mo9 svelte-11e8mql\"> <th colspan=\"1\" class=\"first last type-text align-left align-vertical-middle td cell svelte-1eqj0kf\" scope=\"row\" style=\"\">Gibbs College</th></tr><tr class=\"datawrapper-XKHWJ-1tg0mo9 svelte-11e8mql\"> <th colspan=\"1\" class=\"first last type-text align-left align-vertical-middle td cell svelte-1eqj0kf\" scope=\"row\" style=\"\">Globe University</th></tr><tr class=\"datawrapper-XKHWJ-1tg0mo9 svelte-11e8mql\"> <th colspan=\"1\" class=\"first last type-text align-left align-vertical-middle td cell svelte-1eqj0kf\" scope=\"row\" style=\"\">Grand Canyon University</th></tr><tr class=\"datawrapper-XKHWJ-1tg0mo9 svelte-11e8mql\"> <th colspan=\"1\" class=\"first last type-text align-left align-vertical-middle td cell svelte-1eqj0kf\" scope=\"row\" style=\"\">Gwinnett College</th></tr><tr class=\"datawrapper-XKHWJ-1tg0mo9 svelte-11e8mql\"> <th colspan=\"1\" class=\"first last type-text align-left align-vertical-middle td cell svelte-1eqj0kf\" scope=\"row\" style=\"\">Hallmark Institute of Photography</th></tr><tr class=\"datawrapper-XKHWJ-1tg0mo9 svelte-11e8mql\"> <th colspan=\"1\" class=\"first last type-text align-left align-vertical-middle td cell svelte-1eqj0kf\" scope=\"row\" style=\"\">Harrington College of Design</th></tr><tr class=\"datawrapper-XKHWJ-1tg0mo9 svelte-11e8mql\"> <th colspan=\"1\" class=\"first last type-text align-left align-vertical-middle td cell svelte-1eqj0kf\" scope=\"row\" style=\"\">Harris School of Business</th></tr><tr class=\"datawrapper-XKHWJ-1tg0mo9 svelte-11e8mql\"> <th colspan=\"1\" class=\"first last type-text align-left align-vertical-middle td cell svelte-1eqj0kf\" scope=\"row\" style=\"\">Illinois Institute of Art</th></tr><tr class=\"datawrapper-XKHWJ-1tg0mo9 svelte-11e8mql\"> <th colspan=\"1\" class=\"first last type-text align-left align-vertical-middle td cell svelte-1eqj0kf\" scope=\"row\" style=\"\">Independence University</th></tr><tr class=\"datawrapper-XKHWJ-1tg0mo9 svelte-11e8mql\"> <th colspan=\"1\" class=\"first last type-text align-left align-vertical-middle td cell svelte-1eqj0kf\" scope=\"row\" style=\"\">Institute for Health Education</th></tr><tr class=\"datawrapper-XKHWJ-1tg0mo9 svelte-11e8mql\"> <th colspan=\"1\" class=\"first last type-text align-left align-vertical-middle td cell svelte-1eqj0kf\" scope=\"row\" style=\"\">International Academy of Design and Technology</th></tr><tr class=\"datawrapper-XKHWJ-1tg0mo9 svelte-11e8mql\"> <th colspan=\"1\" class=\"first last type-text align-left align-vertical-middle td cell svelte-1eqj0kf\" scope=\"row\" style=\"\">ITT Technical Institute</th></tr><tr class=\"datawrapper-XKHWJ-1tg0mo9 svelte-11e8mql\"> <th colspan=\"1\" class=\"first last type-text align-left align-vertical-middle td cell svelte-1eqj0kf\" scope=\"row\" style=\"\">Kaplan Career Institute</th></tr><tr class=\"datawrapper-XKHWJ-1tg0mo9 svelte-11e8mql\"> <th colspan=\"1\" class=\"first last type-text align-left align-vertical-middle td cell svelte-1eqj0kf\" scope=\"row\" style=\"\">Kaplan College</th></tr><tr class=\"datawrapper-XKHWJ-1tg0mo9 svelte-11e8mql\"> <th colspan=\"1\" class=\"first last type-text align-left align-vertical-middle td cell svelte-1eqj0kf\" scope=\"row\" style=\"\">Katharine Gibbs School</th></tr><tr class=\"datawrapper-XKHWJ-1tg0mo9 svelte-11e8mql\"> <th colspan=\"1\" class=\"first last type-text align-left align-vertical-middle td cell svelte-1eqj0kf\" scope=\"row\" style=\"\">Keiser University</th></tr><tr class=\"datawrapper-XKHWJ-1tg0mo9 svelte-11e8mql\"> <th colspan=\"1\" class=\"first last type-text align-left align-vertical-middle td cell svelte-1eqj0kf\" scope=\"row\" style=\"\">Keller Graduate School of Management</th></tr><tr class=\"datawrapper-XKHWJ-1tg0mo9 svelte-11e8mql\"> <th colspan=\"1\" class=\"first last type-text align-left align-vertical-middle td cell svelte-1eqj0kf\" scope=\"row\" style=\"\">Kitchen Academy</th></tr><tr class=\"datawrapper-XKHWJ-1tg0mo9 svelte-11e8mql\"> <th colspan=\"1\" class=\"first last type-text align-left align-vertical-middle td cell svelte-1eqj0kf\" scope=\"row\" style=\"\">La' James College of Hairstyling</th></tr><tr class=\"datawrapper-XKHWJ-1tg0mo9 svelte-11e8mql\"> <th colspan=\"1\" class=\"first last type-text align-left align-vertical-middle td cell svelte-1eqj0kf\" scope=\"row\" style=\"\">La' James International College</th></tr><tr class=\"datawrapper-XKHWJ-1tg0mo9 svelte-11e8mql\"> <th colspan=\"1\" class=\"first last type-text align-left align-vertical-middle td cell svelte-1eqj0kf\" scope=\"row\" style=\"\">Le Cordon Bleu</th></tr><tr class=\"datawrapper-XKHWJ-1tg0mo9 svelte-11e8mql\"> <th colspan=\"1\" class=\"first last type-text align-left align-vertical-middle td cell svelte-1eqj0kf\" scope=\"row\" style=\"\">Le Cordon Bleu College of Culinary Arts</th></tr><tr class=\"datawrapper-XKHWJ-1tg0mo9 svelte-11e8mql\"> <th colspan=\"1\" class=\"first last type-text align-left align-vertical-middle td cell svelte-1eqj0kf\" scope=\"row\" style=\"\">Le Cordon Bleu Institute of Culinary Arts</th></tr><tr class=\"datawrapper-XKHWJ-1tg0mo9 svelte-11e8mql\"> <th colspan=\"1\" class=\"first last type-text align-left align-vertical-middle td cell svelte-1eqj0kf\" scope=\"row\" style=\"\">Lehigh Valley College</th></tr><tr class=\"datawrapper-XKHWJ-1tg0mo9 svelte-11e8mql\"> <th colspan=\"1\" class=\"first last type-text align-left align-vertical-middle td cell svelte-1eqj0kf\" scope=\"row\" style=\"\">Lincoln College of Technology</th></tr><tr class=\"datawrapper-XKHWJ-1tg0mo9 svelte-11e8mql\"> <th colspan=\"1\" class=\"first last type-text align-left align-vertical-middle td cell svelte-1eqj0kf\" scope=\"row\" style=\"\">Lincoln Technical Institute</th></tr><tr class=\"datawrapper-XKHWJ-1tg0mo9 svelte-11e8mql\"> <th colspan=\"1\" class=\"first last type-text align-left align-vertical-middle td cell svelte-1eqj0kf\" scope=\"row\" style=\"\">Marinello School of Beauty</th></tr><tr class=\"datawrapper-XKHWJ-1tg0mo9 svelte-11e8mql\"> <th colspan=\"1\" class=\"first last type-text align-left align-vertical-middle td cell svelte-1eqj0kf\" scope=\"row\" style=\"\">McCann School of Business &amp; Technology</th></tr><tr class=\"datawrapper-XKHWJ-1tg0mo9 svelte-11e8mql\"> <th colspan=\"1\" class=\"first last type-text align-left align-vertical-middle td cell svelte-1eqj0kf\" scope=\"row\" style=\"\">McIntosh College</th></tr><tr class=\"datawrapper-XKHWJ-1tg0mo9 svelte-11e8mql\"> <th colspan=\"1\" class=\"first last type-text align-left align-vertical-middle td cell svelte-1eqj0kf\" scope=\"row\" style=\"\">Medtech College</th></tr><tr class=\"datawrapper-XKHWJ-1tg0mo9 svelte-11e8mql\"> <th colspan=\"1\" class=\"first last type-text align-left align-vertical-middle td cell svelte-1eqj0kf\" scope=\"row\" style=\"\">Miami International University of Art &amp; Design</th></tr><tr class=\"datawrapper-XKHWJ-1tg0mo9 svelte-11e8mql\"> <th colspan=\"1\" class=\"first last type-text align-left align-vertical-middle td cell svelte-1eqj0kf\" scope=\"row\" style=\"\">Miami‐Jacobs Career College</th></tr><tr class=\"datawrapper-XKHWJ-1tg0mo9 svelte-11e8mql\"> <th colspan=\"1\" class=\"first last type-text align-left align-vertical-middle td cell svelte-1eqj0kf\" scope=\"row\" style=\"\">Micropower Career Institute</th></tr><tr class=\"datawrapper-XKHWJ-1tg0mo9 svelte-11e8mql\"> <th colspan=\"1\" class=\"first last type-text align-left align-vertical-middle td cell svelte-1eqj0kf\" scope=\"row\" style=\"\">Miller Motte Business College</th></tr><tr class=\"datawrapper-XKHWJ-1tg0mo9 svelte-11e8mql\"> <th colspan=\"1\" class=\"first last type-text align-left align-vertical-middle td cell svelte-1eqj0kf\" scope=\"row\" style=\"\">Miller‐Motte College</th></tr><tr class=\"datawrapper-XKHWJ-1tg0mo9 svelte-11e8mql\"> <th colspan=\"1\" class=\"first last type-text align-left align-vertical-middle td cell svelte-1eqj0kf\" scope=\"row\" style=\"\">Miller‐Motte Technical College</th></tr> </tbody></table>'''"
   ]
  },
  {
   "cell_type": "code",
   "execution_count": 32,
   "metadata": {},
   "outputs": [],
   "source": [
    "page_3 = '''<table class=\"medium datawrapper-XKHWJ-1rmbomy svelte-11e8mql resortable resorted\" cellspacing=\"0\"><caption class=\"sr-only\">Table with 1 columns and 151 rows. Currently displaying rows 101 to 150. Sorted ascending by column \"Instiution Name\"</caption> <thead><tr class=\"datawrapper-XKHWJ-mrf5m svelte-11e8mql\"> <th style=\"border-bottom:2px solid #333333;font-size: 110.00000000000001%;\" class=\"first last type-text align-left resortable sort-asc cell svelte-1v3qkhd\" colspan=\"1\" data-column=\"Instiution Name\" data-row=\"-1\" scope=\"col\" aria-sort=\"ascending\"><button class=\"sort svelte-11e8mql\"> <span class=\"content dw-bold\"> Instiution Name </span> <span aria-hidden=\"true\" class=\"sort-arrow right svelte-16gm7kk\">▲</span></button></th> </tr></thead> <tbody><tr class=\"datawrapper-XKHWJ-1tg0mo9 svelte-11e8mql\"> <th colspan=\"1\" class=\"first last type-text align-left align-vertical-middle td cell svelte-1eqj0kf\" scope=\"row\" style=\"\">Minnesota School of Business</th></tr><tr class=\"datawrapper-XKHWJ-1tg0mo9 svelte-11e8mql\"> <th colspan=\"1\" class=\"first last type-text align-left align-vertical-middle td cell svelte-1eqj0kf\" scope=\"row\" style=\"\">Missouri College</th></tr><tr class=\"datawrapper-XKHWJ-1tg0mo9 svelte-11e8mql\"> <th colspan=\"1\" class=\"first last type-text align-left align-vertical-middle td cell svelte-1eqj0kf\" scope=\"row\" style=\"\">Mount Washington College</th></tr><tr class=\"datawrapper-XKHWJ-1tg0mo9 svelte-11e8mql\"> <th colspan=\"1\" class=\"first last type-text align-left align-vertical-middle td cell svelte-1eqj0kf\" scope=\"row\" style=\"\">National University College</th></tr><tr class=\"datawrapper-XKHWJ-1tg0mo9 svelte-11e8mql\"> <th colspan=\"1\" class=\"first last type-text align-left align-vertical-middle td cell svelte-1eqj0kf\" scope=\"row\" style=\"\">New England College of Business and Finance</th></tr><tr class=\"datawrapper-XKHWJ-1tg0mo9 svelte-11e8mql\"> <th colspan=\"1\" class=\"first last type-text align-left align-vertical-middle td cell svelte-1eqj0kf\" scope=\"row\" style=\"\">New England Institute of Art</th></tr><tr class=\"datawrapper-XKHWJ-1tg0mo9 svelte-11e8mql\"> <th colspan=\"1\" class=\"first last type-text align-left align-vertical-middle td cell svelte-1eqj0kf\" scope=\"row\" style=\"\">NUC University</th></tr><tr class=\"datawrapper-XKHWJ-1tg0mo9 svelte-11e8mql\"> <th colspan=\"1\" class=\"first last type-text align-left align-vertical-middle td cell svelte-1eqj0kf\" scope=\"row\" style=\"\">Orlando Culinary Academy</th></tr><tr class=\"datawrapper-XKHWJ-1tg0mo9 svelte-11e8mql\"> <th colspan=\"1\" class=\"first last type-text align-left align-vertical-middle td cell svelte-1eqj0kf\" scope=\"row\" style=\"\">Pennsylvania Culinary Institute</th></tr><tr class=\"datawrapper-XKHWJ-1tg0mo9 svelte-11e8mql\"> <th colspan=\"1\" class=\"first last type-text align-left align-vertical-middle td cell svelte-1eqj0kf\" scope=\"row\" style=\"\">Pittsburgh Career Institute</th></tr><tr class=\"datawrapper-XKHWJ-1tg0mo9 svelte-11e8mql\"> <th colspan=\"1\" class=\"first last type-text align-left align-vertical-middle td cell svelte-1eqj0kf\" scope=\"row\" style=\"\">Purdue University Global</th></tr><tr class=\"datawrapper-XKHWJ-1tg0mo9 svelte-11e8mql\"> <th colspan=\"1\" class=\"first last type-text align-left align-vertical-middle td cell svelte-1eqj0kf\" scope=\"row\" style=\"\">Radians College</th></tr><tr class=\"datawrapper-XKHWJ-1tg0mo9 svelte-11e8mql\"> <th colspan=\"1\" class=\"first last type-text align-left align-vertical-middle td cell svelte-1eqj0kf\" scope=\"row\" style=\"\">Remington College</th></tr><tr class=\"datawrapper-XKHWJ-1tg0mo9 svelte-11e8mql\"> <th colspan=\"1\" class=\"first last type-text align-left align-vertical-middle td cell svelte-1eqj0kf\" scope=\"row\" style=\"\">Robert Fiance Beauty Schools</th></tr><tr class=\"datawrapper-XKHWJ-1tg0mo9 svelte-11e8mql\"> <th colspan=\"1\" class=\"first last type-text align-left align-vertical-middle td cell svelte-1eqj0kf\" scope=\"row\" style=\"\">Robert Fiance Hair Design Institute</th></tr><tr class=\"datawrapper-XKHWJ-1tg0mo9 svelte-11e8mql\"> <th colspan=\"1\" class=\"first last type-text align-left align-vertical-middle td cell svelte-1eqj0kf\" scope=\"row\" style=\"\">Robert Fiance Institute of Florida</th></tr><tr class=\"datawrapper-XKHWJ-1tg0mo9 svelte-11e8mql\"> <th colspan=\"1\" class=\"first last type-text align-left align-vertical-middle td cell svelte-1eqj0kf\" scope=\"row\" style=\"\">Ross University School of Medicine</th></tr><tr class=\"datawrapper-XKHWJ-1tg0mo9 svelte-11e8mql\"> <th colspan=\"1\" class=\"first last type-text align-left align-vertical-middle td cell svelte-1eqj0kf\" scope=\"row\" style=\"\">Ross University School of Veterinary Medicine</th></tr><tr class=\"datawrapper-XKHWJ-1tg0mo9 svelte-11e8mql\"> <th colspan=\"1\" class=\"first last type-text align-left align-vertical-middle td cell svelte-1eqj0kf\" scope=\"row\" style=\"\">Salter College</th></tr><tr class=\"datawrapper-XKHWJ-1tg0mo9 svelte-11e8mql\"> <th colspan=\"1\" class=\"first last type-text align-left align-vertical-middle td cell svelte-1eqj0kf\" scope=\"row\" style=\"\">Sanford‐Brown College</th></tr><tr class=\"datawrapper-XKHWJ-1tg0mo9 svelte-11e8mql\"> <th colspan=\"1\" class=\"first last type-text align-left align-vertical-middle td cell svelte-1eqj0kf\" scope=\"row\" style=\"\">Sanford‐Brown Institute</th></tr><tr class=\"datawrapper-XKHWJ-1tg0mo9 svelte-11e8mql\"> <th colspan=\"1\" class=\"first last type-text align-left align-vertical-middle td cell svelte-1eqj0kf\" scope=\"row\" style=\"\">School of Computer Technology</th></tr><tr class=\"datawrapper-XKHWJ-1tg0mo9 svelte-11e8mql\"> <th colspan=\"1\" class=\"first last type-text align-left align-vertical-middle td cell svelte-1eqj0kf\" scope=\"row\" style=\"\">Scottsdale Culinary Institute</th></tr><tr class=\"datawrapper-XKHWJ-1tg0mo9 svelte-11e8mql\"> <th colspan=\"1\" class=\"first last type-text align-left align-vertical-middle td cell svelte-1eqj0kf\" scope=\"row\" style=\"\">South University</th></tr><tr class=\"datawrapper-XKHWJ-1tg0mo9 svelte-11e8mql\"> <th colspan=\"1\" class=\"first last type-text align-left align-vertical-middle td cell svelte-1eqj0kf\" scope=\"row\" style=\"\">Southern California School of Culinary Arts</th></tr><tr class=\"datawrapper-XKHWJ-1tg0mo9 svelte-11e8mql\"> <th colspan=\"1\" class=\"first last type-text align-left align-vertical-middle td cell svelte-1eqj0kf\" scope=\"row\" style=\"\">Southern Technical College</th></tr><tr class=\"datawrapper-XKHWJ-1tg0mo9 svelte-11e8mql\"> <th colspan=\"1\" class=\"first last type-text align-left align-vertical-middle td cell svelte-1eqj0kf\" scope=\"row\" style=\"\">Star Career Academy</th></tr><tr class=\"datawrapper-XKHWJ-1tg0mo9 svelte-11e8mql\"> <th colspan=\"1\" class=\"first last type-text align-left align-vertical-middle td cell svelte-1eqj0kf\" scope=\"row\" style=\"\">Stevens‐Henager</th></tr><tr class=\"datawrapper-XKHWJ-1tg0mo9 svelte-11e8mql\"> <th colspan=\"1\" class=\"first last type-text align-left align-vertical-middle td cell svelte-1eqj0kf\" scope=\"row\" style=\"\">Suburban Technical School</th></tr><tr class=\"datawrapper-XKHWJ-1tg0mo9 svelte-11e8mql\"> <th colspan=\"1\" class=\"first last type-text align-left align-vertical-middle td cell svelte-1eqj0kf\" scope=\"row\" style=\"\">Sullivan and Cogliano Training Centers</th></tr><tr class=\"datawrapper-XKHWJ-1tg0mo9 svelte-11e8mql\"> <th colspan=\"1\" class=\"first last type-text align-left align-vertical-middle td cell svelte-1eqj0kf\" scope=\"row\" style=\"\">Texas Culinary Academy</th></tr><tr class=\"datawrapper-XKHWJ-1tg0mo9 svelte-11e8mql\"> <th colspan=\"1\" class=\"first last type-text align-left align-vertical-middle td cell svelte-1eqj0kf\" scope=\"row\" style=\"\">The Art Institute</th></tr><tr class=\"datawrapper-XKHWJ-1tg0mo9 svelte-11e8mql\"> <th colspan=\"1\" class=\"first last type-text align-left align-vertical-middle td cell svelte-1eqj0kf\" scope=\"row\" style=\"\">Tucson College</th></tr><tr class=\"datawrapper-XKHWJ-1tg0mo9 svelte-11e8mql\"> <th colspan=\"1\" class=\"first last type-text align-left align-vertical-middle td cell svelte-1eqj0kf\" scope=\"row\" style=\"\">Ultrasound Diagnostic Schools</th></tr><tr class=\"datawrapper-XKHWJ-1tg0mo9 svelte-11e8mql\"> <th colspan=\"1\" class=\"first last type-text align-left align-vertical-middle td cell svelte-1eqj0kf\" scope=\"row\" style=\"\">United Education Institute</th></tr><tr class=\"datawrapper-XKHWJ-1tg0mo9 svelte-11e8mql\"> <th colspan=\"1\" class=\"first last type-text align-left align-vertical-middle td cell svelte-1eqj0kf\" scope=\"row\" style=\"\">University of Phoenix</th></tr><tr class=\"datawrapper-XKHWJ-1tg0mo9 svelte-11e8mql\"> <th colspan=\"1\" class=\"first last type-text align-left align-vertical-middle td cell svelte-1eqj0kf\" scope=\"row\" style=\"\">University of the Rockies </th></tr><tr class=\"datawrapper-XKHWJ-1tg0mo9 svelte-11e8mql\"> <th colspan=\"1\" class=\"first last type-text align-left align-vertical-middle td cell svelte-1eqj0kf\" scope=\"row\" style=\"\">Vatterott College</th></tr><tr class=\"datawrapper-XKHWJ-1tg0mo9 svelte-11e8mql\"> <th colspan=\"1\" class=\"first last type-text align-left align-vertical-middle td cell svelte-1eqj0kf\" scope=\"row\" style=\"\">Virginia College</th></tr><tr class=\"datawrapper-XKHWJ-1tg0mo9 svelte-11e8mql\"> <th colspan=\"1\" class=\"first last type-text align-left align-vertical-middle td cell svelte-1eqj0kf\" scope=\"row\" style=\"\">Walden University</th></tr><tr class=\"datawrapper-XKHWJ-1tg0mo9 svelte-11e8mql\"> <th colspan=\"1\" class=\"first last type-text align-left align-vertical-middle td cell svelte-1eqj0kf\" scope=\"row\" style=\"\">Washington Business School</th></tr><tr class=\"datawrapper-XKHWJ-1tg0mo9 svelte-11e8mql\"> <th colspan=\"1\" class=\"first last type-text align-left align-vertical-middle td cell svelte-1eqj0kf\" scope=\"row\" style=\"\">Western Culinary Institute</th></tr><tr class=\"datawrapper-XKHWJ-1tg0mo9 svelte-11e8mql\"> <th colspan=\"1\" class=\"first last type-text align-left align-vertical-middle td cell svelte-1eqj0kf\" scope=\"row\" style=\"\">Western International University</th></tr><tr class=\"datawrapper-XKHWJ-1tg0mo9 svelte-11e8mql\"> <th colspan=\"1\" class=\"first last type-text align-left align-vertical-middle td cell svelte-1eqj0kf\" scope=\"row\" style=\"\">Western School of Health and Business Careers</th></tr><tr class=\"datawrapper-XKHWJ-1tg0mo9 svelte-11e8mql\"> <th colspan=\"1\" class=\"first last type-text align-left align-vertical-middle td cell svelte-1eqj0kf\" scope=\"row\" style=\"\">Western State University College of Law</th></tr><tr class=\"datawrapper-XKHWJ-1tg0mo9 svelte-11e8mql\"> <th colspan=\"1\" class=\"first last type-text align-left align-vertical-middle td cell svelte-1eqj0kf\" scope=\"row\" style=\"\">Westwood College</th></tr><tr class=\"datawrapper-XKHWJ-1tg0mo9 svelte-11e8mql\"> <th colspan=\"1\" class=\"first last type-text align-left align-vertical-middle td cell svelte-1eqj0kf\" scope=\"row\" style=\"\">Wilfred Academy</th></tr><tr class=\"datawrapper-XKHWJ-1tg0mo9 svelte-11e8mql\"> <th colspan=\"1\" class=\"first last type-text align-left align-vertical-middle td cell svelte-1eqj0kf\" scope=\"row\" style=\"\">Wilfred Academy of Beauty Culture</th></tr><tr class=\"datawrapper-XKHWJ-1tg0mo9 svelte-11e8mql\"> <th colspan=\"1\" class=\"first last type-text align-left align-vertical-middle td cell svelte-1eqj0kf\" scope=\"row\" style=\"\">Wilfred Academy of Hair &amp; Beauty Culture</th></tr><tr class=\"datawrapper-XKHWJ-1tg0mo9 svelte-11e8mql\"> <th colspan=\"1\" class=\"first last type-text align-left align-vertical-middle td cell svelte-1eqj0kf\" scope=\"row\" style=\"\">Wright Business School</th></tr> </tbody></table>'''"
   ]
  },
  {
   "cell_type": "code",
   "execution_count": 80,
   "metadata": {},
   "outputs": [],
   "source": [
    "schools = pd.concat([pd.read_html(page_1)[0], pd.read_html(page_2)[0]])\n",
    "schools = pd.concat([schools, pd.read_html(page_3)[0]]).reset_index().drop('index', axis=1)"
   ]
  },
  {
   "cell_type": "code",
   "execution_count": 81,
   "metadata": {},
   "outputs": [
    {
     "data": {
      "text/html": [
       "<div>\n",
       "<style scoped>\n",
       "    .dataframe tbody tr th:only-of-type {\n",
       "        vertical-align: middle;\n",
       "    }\n",
       "\n",
       "    .dataframe tbody tr th {\n",
       "        vertical-align: top;\n",
       "    }\n",
       "\n",
       "    .dataframe thead th {\n",
       "        text-align: right;\n",
       "    }\n",
       "</style>\n",
       "<table border=\"1\" class=\"dataframe\">\n",
       "  <thead>\n",
       "    <tr style=\"text-align: right;\">\n",
       "      <th></th>\n",
       "      <th>Instiution Name ▲</th>\n",
       "    </tr>\n",
       "  </thead>\n",
       "  <tbody>\n",
       "    <tr>\n",
       "      <th>0</th>\n",
       "      <td>Al Collins Graphic Design School</td>\n",
       "    </tr>\n",
       "    <tr>\n",
       "      <th>1</th>\n",
       "      <td>All‐State Career School</td>\n",
       "    </tr>\n",
       "    <tr>\n",
       "      <th>2</th>\n",
       "      <td>Allentown Business School</td>\n",
       "    </tr>\n",
       "    <tr>\n",
       "      <th>3</th>\n",
       "      <td>American Career College</td>\n",
       "    </tr>\n",
       "    <tr>\n",
       "      <th>4</th>\n",
       "      <td>American Career Institute</td>\n",
       "    </tr>\n",
       "    <tr>\n",
       "      <th>...</th>\n",
       "      <td>...</td>\n",
       "    </tr>\n",
       "    <tr>\n",
       "      <th>145</th>\n",
       "      <td>Westwood College</td>\n",
       "    </tr>\n",
       "    <tr>\n",
       "      <th>146</th>\n",
       "      <td>Wilfred Academy</td>\n",
       "    </tr>\n",
       "    <tr>\n",
       "      <th>147</th>\n",
       "      <td>Wilfred Academy of Beauty Culture</td>\n",
       "    </tr>\n",
       "    <tr>\n",
       "      <th>148</th>\n",
       "      <td>Wilfred Academy of Hair &amp; Beauty Culture</td>\n",
       "    </tr>\n",
       "    <tr>\n",
       "      <th>149</th>\n",
       "      <td>Wright Business School</td>\n",
       "    </tr>\n",
       "  </tbody>\n",
       "</table>\n",
       "<p>150 rows × 1 columns</p>\n",
       "</div>"
      ],
      "text/plain": [
       "                            Instiution Name ▲\n",
       "0            Al Collins Graphic Design School\n",
       "1                     All‐State Career School\n",
       "2                   Allentown Business School\n",
       "3                     American Career College\n",
       "4                   American Career Institute\n",
       "..                                        ...\n",
       "145                          Westwood College\n",
       "146                           Wilfred Academy\n",
       "147         Wilfred Academy of Beauty Culture\n",
       "148  Wilfred Academy of Hair & Beauty Culture\n",
       "149                    Wright Business School\n",
       "\n",
       "[150 rows x 1 columns]"
      ]
     },
     "execution_count": 81,
     "metadata": {},
     "output_type": "execute_result"
    }
   ],
   "source": [
    "schools"
   ]
  },
  {
   "cell_type": "code",
   "execution_count": 82,
   "metadata": {},
   "outputs": [],
   "source": [
    "wb = gc.open_by_url('https://docs.google.com/spreadsheets/d/19V9C8t-OftWktJdBBBjMbS_sh2arnbNttcv02vOzImU/edit#gid=0')\n",
    "sheet = wb.worksheet('Sheet1')\n",
    "set_with_dataframe(sheet, schools)"
   ]
  },
  {
   "cell_type": "code",
   "execution_count": null,
   "metadata": {},
   "outputs": [],
   "source": []
  }
 ],
 "metadata": {
  "kernelspec": {
   "display_name": "Python 3.10.4 ('syncs')",
   "language": "python",
   "name": "python3"
  },
  "language_info": {
   "codemirror_mode": {
    "name": "ipython",
    "version": 3
   },
   "file_extension": ".py",
   "mimetype": "text/x-python",
   "name": "python",
   "nbconvert_exporter": "python",
   "pygments_lexer": "ipython3",
   "version": "3.10.4"
  },
  "orig_nbformat": 4,
  "vscode": {
   "interpreter": {
    "hash": "81dc1364529adc62f3117bf1c1fae18e90bcddaf43a79cd55c85a4f64016e857"
   }
  }
 },
 "nbformat": 4,
 "nbformat_minor": 2
}
